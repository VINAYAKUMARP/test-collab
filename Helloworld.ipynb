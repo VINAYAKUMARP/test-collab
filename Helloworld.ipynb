{
  "nbformat": 4,
  "nbformat_minor": 0,
  "metadata": {
    "colab": {
      "name": "Helloworld.ipynb",
      "provenance": [],
      "authorship_tag": "ABX9TyOTuT25nz8lZMxb+yh0ZkiT",
      "include_colab_link": true
    },
    "kernelspec": {
      "name": "python3",
      "display_name": "Python 3"
    },
    "language_info": {
      "name": "python"
    }
  },
  "cells": [
    {
      "cell_type": "markdown",
      "metadata": {
        "id": "view-in-github",
        "colab_type": "text"
      },
      "source": [
        "<a href=\"https://colab.research.google.com/github/VINAYAKUMARP/test-collab/blob/main/Helloworld.ipynb\" target=\"_parent\"><img src=\"https://colab.research.google.com/assets/colab-badge.svg\" alt=\"Open In Colab\"/></a>"
      ]
    },
    {
      "cell_type": "code",
      "metadata": {
        "colab": {
          "base_uri": "https://localhost:8080/"
        },
        "id": "9v9ewnJf250E",
        "outputId": "186dd4b8-92eb-4688-b6fd-b887a443fe9f"
      },
      "source": [
        "print(\"Hello World\")\n",
        "print(\"I added this now\")"
      ],
      "execution_count": 5,
      "outputs": [
        {
          "output_type": "stream",
          "text": [
            "Hello World\n",
            "I added this now\n"
          ],
          "name": "stdout"
        }
      ]
    }
  ]
}